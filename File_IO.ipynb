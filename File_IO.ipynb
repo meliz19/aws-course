{
 "cells": [
  {
   "cell_type": "markdown",
   "metadata": {},
   "source": [
    "# File I/O"
   ]
  },
  {
   "cell_type": "markdown",
   "metadata": {},
   "source": [
    "\n",
    "## Writing to a file\n",
    "Create a new file, using a filename that has a timestamp in it (like in the earlier exercise).\n",
    "\n",
    "Write a random floating point decimal to the file. (Use the random library for this.)"
   ]
  },
  {
   "cell_type": "code",
   "execution_count": 2,
   "metadata": {},
   "outputs": [
    {
     "data": {
      "text/plain": [
       "datetime.datetime(2022, 8, 8, 15, 50, 40, 867649)"
      ]
     },
     "execution_count": 2,
     "metadata": {},
     "output_type": "execute_result"
    }
   ],
   "source": [
    "from datetime import datetime as dt\n",
    "time_now = dt.now(); time_now\n"
   ]
  },
  {
   "cell_type": "code",
   "execution_count": 5,
   "metadata": {},
   "outputs": [
    {
     "data": {
      "text/plain": [
       "'file_name_20220808.txt'"
      ]
     },
     "execution_count": 5,
     "metadata": {},
     "output_type": "execute_result"
    }
   ],
   "source": [
    "filename = time_now.strftime('file_name_%Y%m%d.txt'); filename"
   ]
  },
  {
   "cell_type": "code",
   "execution_count": 9,
   "metadata": {},
   "outputs": [],
   "source": [
    "from random import uniform\n",
    "with open(filename, 'w') as fn:\n",
    "    fn.write(str(uniform(0,1)))\n",
    "    fn.close()\n"
   ]
  },
  {
   "cell_type": "code",
   "execution_count": 16,
   "metadata": {},
   "outputs": [
    {
     "name": "stdout",
     "output_type": "stream",
     "text": [
      "0.5293702531561917\n"
     ]
    }
   ],
   "source": [
    "fn = open(filename, 'r')\n",
    "fn_lines = fn.readline(); print(fn_lines)\n",
    "fn.close()"
   ]
  },
  {
   "cell_type": "markdown",
   "metadata": {},
   "source": [
    "## Reading from a File\n",
    "\n",
    "Read a list of column names from a file. Replace all dashes with underscores, and print the new list to standard out (on screen).\n",
    "\n",
    "The file contents should have a column name on each line, like this:\n",
    "\n",
    "- id\n",
    "- first-name\n",
    "- last-name\n",
    "- order-number\n",
    "- subtotal\n",
    "- tax\n",
    "- total\n",
    "\n",
    "(but without the bullets)"
   ]
  },
  {
   "cell_type": "markdown",
   "metadata": {},
   "source": [
    "code to create the file for the exercise:"
   ]
  },
  {
   "cell_type": "code",
   "execution_count": 6,
   "metadata": {},
   "outputs": [],
   "source": [
    "filename = \"headers.txt\"\n",
    "colnames = \"\"\"\n",
    "id\n",
    "first-name\n",
    "last-name\n",
    "order-number\n",
    "subtotal\n",
    "tax\n",
    "total\n",
    "\"\"\".strip()\n",
    "\n",
    "with open(filename,'w') as fp:\n",
    "    for colname in colnames.split():\n",
    "        print(colname,file=fp)"
   ]
  },
  {
   "cell_type": "code",
   "execution_count": 7,
   "metadata": {},
   "outputs": [],
   "source": [
    "# your answer below"
   ]
  },
  {
   "cell_type": "code",
   "execution_count": 19,
   "metadata": {},
   "outputs": [
    {
     "data": {
      "text/plain": [
       "'id, first-name, last-name, order-number, subtotal, tax, total'"
      ]
     },
     "execution_count": 19,
     "metadata": {},
     "output_type": "execute_result"
    }
   ],
   "source": [
    "new_fn = 'headers.txt'\n",
    "with open(new_fn, 'w') as fn:\n",
    "    fn.write('''id, first-name, last-name, order-number, subtotal, tax, total''')\n",
    "    fn.close\n",
    "\n",
    "fn_read = open(new_fn, 'r')\n",
    "headers = fn_read.readline()\n",
    "headers"
   ]
  },
  {
   "cell_type": "code",
   "execution_count": 23,
   "metadata": {},
   "outputs": [
    {
     "data": {
      "text/plain": [
       "['id', 'first_name', 'last_name', 'order_number', 'subtotal', 'tax', 'total']"
      ]
     },
     "execution_count": 23,
     "metadata": {},
     "output_type": "execute_result"
    }
   ],
   "source": [
    "clean_headers = [var.strip().replace('-', '_') for var in headers.split(',')]\n",
    "clean_headers"
   ]
  }
 ],
 "metadata": {
  "kernelspec": {
   "display_name": "Python 3",
   "language": "python",
   "name": "python3"
  },
  "language_info": {
   "codemirror_mode": {
    "name": "ipython",
    "version": 3
   },
   "file_extension": ".py",
   "mimetype": "text/x-python",
   "name": "python",
   "nbconvert_exporter": "python",
   "pygments_lexer": "ipython3",
   "version": "3.8.5"
  }
 },
 "nbformat": 4,
 "nbformat_minor": 2
}
